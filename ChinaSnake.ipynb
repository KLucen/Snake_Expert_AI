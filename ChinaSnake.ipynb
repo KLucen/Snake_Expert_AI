{
 "cells": [
  {
   "cell_type": "code",
   "execution_count": 7,
   "id": "c735b63f-2e6e-4d6f-90cd-f6a4a923c725",
   "metadata": {},
   "outputs": [
    {
     "name": "stdout",
     "output_type": "stream",
     "text": [
      "数据基本信息：\n",
      "<class 'pandas.core.frame.DataFrame'>\n",
      "RangeIndex: 23816 entries, 0 to 23815\n",
      "Data columns (total 14 columns):\n",
      " #   Column            Non-Null Count  Dtype  \n",
      "---  ------            --------------  -----  \n",
      " 0   Unnamed: 0        23816 non-null  int64  \n",
      " 1   binomial          23816 non-null  object \n",
      " 2   country           23816 non-null  object \n",
      " 3   continent         23816 non-null  object \n",
      " 4   genus             23816 non-null  object \n",
      " 5   family            23816 non-null  object \n",
      " 6   UUID              23816 non-null  object \n",
      " 7   class_id          23816 non-null  int64  \n",
      " 8   snake_sub_family  23816 non-null  object \n",
      " 9   poisonous         23816 non-null  int64  \n",
      " 10  X                 23816 non-null  float64\n",
      " 11  Y                 23816 non-null  float64\n",
      " 12  height            23816 non-null  float64\n",
      " 13  width             23816 non-null  float64\n",
      "dtypes: float64(4), int64(3), object(7)\n",
      "memory usage: 2.5+ MB\n",
      "数据前几行内容信息：\n",
      "\tUnnamed: 0\tbinomial\tcountry\tcontinent\tgenus\tfamily\tUUID\tclass_id\tsnake_sub_family\tpoisonous\tX\tY\theight\twidth\n",
      "0\t0\tAgkistrodon contortrix\tUnited States of America\tNorth America\tAgkistrodon\tViperidae\t20e23008100d4e249fd757c11fe059fe\t18\tAgkistrodon contortrix\t1\t0.50741225\t0.5469387\t0.91621995\t0.95142454\n",
      "1\t1\tAgkistrodon contortrix\tUnited States of America\tNorth America\tAgkistrodon\tViperidae\t0c6d14f33f404013ab116ab09880c523\t18\tAgkistrodon contortrix\t1\t0.5031149\t0.39208585\t0.8353156\t0.9653633\n",
      "2\t2\tAgkistrodon contortrix\tUnited States of America\tNorth America\tAgkistrodon\tViperidae\t3a31a32de0434653b4a82a30806f7a6d\t18\tAgkistrodon contortrix\t1\t0.35303056\t0.57331234\t0.6527003\t0.70928556\n",
      "3\t3\tAgkistrodon contortrix\tUnited States of America\tNorth America\tAgkistrodon\tViperidae\t1c5a3b2953c84d698fad8a40db91323e\t18\tAgkistrodon contortrix\t1\t0.43636826\t0.44779438\t0.9188796\t0.8344568\n",
      "4\t4\tAgkistrodon contortrix\tUnited States of America\tNorth America\tAgkistrodon\tViperidae\te10c99a58c2546dab2c0d998de1f7c1b\t18\tAgkistrodon contortrix\t1\t0.51228446\t0.5190674\t0.92320234\t0.6310361\n",
      "\n"
     ]
    }
   ],
   "source": [
    "import pandas as pd\n",
    "\n",
    "# 加载数据集\n",
    "df = pd.read_csv('./archive/Csv/train.csv')\n",
    "\n",
    "print('数据基本信息：')\n",
    "df.info()\n",
    "\n",
    "# 查看数据集行数和列数\n",
    "rows, columns = df.shape\n",
    "\n",
    "if rows < 100 and columns < 20:\n",
    "    # 短表数据（行数少于100且列数少于20）查看全量数据信息\n",
    "    print('数据全部内容信息：')\n",
    "    print(df.to_csv(sep='\\t', na_rep='nan'))\n",
    "else:\n",
    "    # 长表数据查看数据前几行信息\n",
    "    print('数据前几行内容信息：')\n",
    "    print(df.head().to_csv(sep='\\t', na_rep='nan'))"
   ]
  },
  {
   "cell_type": "code",
   "execution_count": 8,
   "id": "72910938-36f6-4f4f-a7df-a635701948c5",
   "metadata": {},
   "outputs": [],
   "source": [
    "# 筛选出country列值为china的行数据\n",
    "china_data = df[df['country'].str.lower() == 'china']\n",
    "\n",
    "# 将结果保存为csv文件\n",
    "csv_path = './data/train_china.csv'\n",
    "china_data.to_csv(csv_path)"
   ]
  },
  {
   "cell_type": "code",
   "execution_count": 9,
   "id": "97cbf4e2-ae77-41af-ae24-bfff74578c88",
   "metadata": {},
   "outputs": [
    {
     "name": "stdout",
     "output_type": "stream",
     "text": [
      "数据基本信息：\n",
      "<class 'pandas.core.frame.DataFrame'>\n",
      "RangeIndex: 3138 entries, 0 to 3137\n",
      "Data columns (total 10 columns):\n",
      " #   Column            Non-Null Count  Dtype \n",
      "---  ------            --------------  ----- \n",
      " 0   Unnamed: 0        3138 non-null   int64 \n",
      " 1   binomial          3138 non-null   object\n",
      " 2   country           3138 non-null   object\n",
      " 3   continent         3138 non-null   object\n",
      " 4   genus             3138 non-null   object\n",
      " 5   family            3138 non-null   object\n",
      " 6   UUID              3138 non-null   object\n",
      " 7   class_id          3138 non-null   int64 \n",
      " 8   snake_sub_family  3138 non-null   object\n",
      " 9   poisonous         3138 non-null   int64 \n",
      "dtypes: int64(3), object(7)\n",
      "memory usage: 245.3+ KB\n",
      "数据前几行内容信息：\n",
      "\tUnnamed: 0\tbinomial\tcountry\tcontinent\tgenus\tfamily\tUUID\tclass_id\tsnake_sub_family\tpoisonous\n",
      "0\t0\tAgkistrodon contortrix\tUnited States of America\tNorth America\tAgkistrodon\tViperidae\tca23ee722e5e4b6ca4b130291b8428f1\t18\tAgkistrodon contortrix\t1\n",
      "1\t1\tAgkistrodon contortrix\tUnited States of America\tNorth America\tAgkistrodon\tViperidae\t23dfe346fcbf40e7a465b0febf3620be\t18\tAgkistrodon contortrix\t1\n",
      "2\t2\tAgkistrodon contortrix\tUnited States of America\tNorth America\tAgkistrodon\tViperidae\t2c96953bd06645bdbfa87b180eb72b0f\t18\tAgkistrodon contortrix\t1\n",
      "3\t3\tAgkistrodon contortrix\tUnited States of America\tNorth America\tAgkistrodon\tViperidae\te2bcec60b133466380d5c253088765ae\t18\tAgkistrodon contortrix\t1\n",
      "4\t4\tAgkistrodon contortrix\tUnited States of America\tNorth America\tAgkistrodon\tViperidae\tfd6a488d065e47978c9996734fc1732c\t18\tAgkistrodon contortrix\t1\n",
      "\n"
     ]
    }
   ],
   "source": [
    "import pandas as pd\n",
    "\n",
    "# 加载数据集\n",
    "df = pd.read_csv('./archive/Csv/test.csv')\n",
    "\n",
    "print('数据基本信息：')\n",
    "df.info()\n",
    "\n",
    "# 查看数据集行数和列数\n",
    "rows, columns = df.shape\n",
    "\n",
    "if rows < 100 and columns < 20:\n",
    "    # 短表数据（行数少于100且列数少于20）查看全量数据信息\n",
    "    print('数据全部内容信息：')\n",
    "    print(df.to_csv(sep='\\t', na_rep='nan'))\n",
    "else:\n",
    "    # 长表数据查看数据前几行信息\n",
    "    print('数据前几行内容信息：')\n",
    "    print(df.head().to_csv(sep='\\t', na_rep='nan'))"
   ]
  },
  {
   "cell_type": "code",
   "execution_count": 10,
   "id": "0f81df47-f861-4c60-a492-afb176d3b10a",
   "metadata": {},
   "outputs": [],
   "source": [
    "# 筛选出country列值为china的行数据\n",
    "china_data = df[df['country'].str.lower() == 'china']\n",
    "\n",
    "# 将结果保存为csv文件\n",
    "csv_path = './data/test_china.csv'\n",
    "china_data.to_csv(csv_path)"
   ]
  },
  {
   "cell_type": "code",
   "execution_count": null,
   "id": "d65917a7-1b8f-4213-82dc-9561729e74db",
   "metadata": {},
   "outputs": [],
   "source": []
  }
 ],
 "metadata": {
  "kernelspec": {
   "display_name": "Python 3 (ipykernel)",
   "language": "python",
   "name": "python3"
  },
  "language_info": {
   "codemirror_mode": {
    "name": "ipython",
    "version": 3
   },
   "file_extension": ".py",
   "mimetype": "text/x-python",
   "name": "python",
   "nbconvert_exporter": "python",
   "pygments_lexer": "ipython3",
   "version": "3.10.16"
  }
 },
 "nbformat": 4,
 "nbformat_minor": 5
}
